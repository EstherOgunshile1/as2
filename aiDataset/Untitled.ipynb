{
 "cells": [
  {
   "cell_type": "code",
   "execution_count": 1,
   "id": "e8ca994a-e0a7-4ed0-9613-b7b13eeee0e4",
   "metadata": {},
   "outputs": [
    {
     "data": {
      "text/plain": [
       "'/Users/estherogunshile/thirdyear/AI/AS2/aiDataset'"
      ]
     },
     "execution_count": 1,
     "metadata": {},
     "output_type": "execute_result"
    }
   ],
   "source": [
    "import os\n",
    "os.getcwd()"
   ]
  },
  {
   "cell_type": "code",
   "execution_count": 4,
   "id": "c386d471-a195-444a-8d50-2f909da5de6f",
   "metadata": {},
   "outputs": [],
   "source": [
    "import os, shutil\n",
    "\n",
    "base_dir = 'aiDataset'\n",
    "\n",
    "train_dir = os.path.join(base_dir, 'train')\n",
    "validation_dir = os.path.join(base_dir, 'validation')\n",
    "test_dir = os.path.join(base_dir, 'test')\n",
    "\n",
    "train_Carlos_dir = os.path.join(train_dir, 'Carlos')\n",
    "train_Esther_dir = os.path.join(train_dir, 'Esther')\n",
    "\n",
    "validation_Carlos_dir = os.path.join(validation_dir, 'Carlos')\n",
    "validation_Esther_dir = os.path.join(validation_dir, 'Esther')\n",
    "\n",
    "test_Carlos_dir = os.path.join(test_dir, 'Carlos')\n",
    "test_Esther_dir = os.path.join(test_dir, 'Esther')\n",
    "\n",
    "train_Carlos_dir = 'thirdyear/AI/AS2/aiDataset/test/Carlos'\n",
    "train_Esther_dir = 'thirdyear/AI/AS2/aiDataset/test/Esther'"
   ]
  },
  {
   "cell_type": "code",
   "execution_count": 5,
   "id": "8a3b7580-a0c6-4710-a104-04e1d4bd4bcf",
   "metadata": {},
   "outputs": [
    {
     "ename": "FileNotFoundError",
     "evalue": "[Errno 2] No such file or directory: 'thirdyear/AI/AS2/aiDataset/test/Carlos'",
     "output_type": "error",
     "traceback": [
      "\u001b[0;31m---------------------------------------------------------------------------\u001b[0m",
      "\u001b[0;31mFileNotFoundError\u001b[0m                         Traceback (most recent call last)",
      "Cell \u001b[0;32mIn[5], line 1\u001b[0m\n\u001b[0;32m----> 1\u001b[0m \u001b[38;5;28mprint\u001b[39m(\u001b[38;5;124m'\u001b[39m\u001b[38;5;124mtotal training Carlos images:\u001b[39m\u001b[38;5;124m'\u001b[39m, \u001b[38;5;28mlen\u001b[39m(\u001b[43mos\u001b[49m\u001b[38;5;241;43m.\u001b[39;49m\u001b[43mlistdir\u001b[49m\u001b[43m(\u001b[49m\u001b[43mtrain_Carlos_dir\u001b[49m\u001b[43m)\u001b[49m))\n\u001b[1;32m      2\u001b[0m \u001b[38;5;28mprint\u001b[39m(\u001b[38;5;124m'\u001b[39m\u001b[38;5;124mtotal training Esther images:\u001b[39m\u001b[38;5;124m'\u001b[39m, \u001b[38;5;28mlen\u001b[39m(os\u001b[38;5;241m.\u001b[39mlistdir(train_Esther_dir)))\n",
      "\u001b[0;31mFileNotFoundError\u001b[0m: [Errno 2] No such file or directory: 'thirdyear/AI/AS2/aiDataset/test/Carlos'"
     ]
    }
   ],
   "source": [
    "print('total training Carlos images:', len(os.listdir(train_Carlos_dir)))\n",
    "print('total training Esther images:', len(os.listdir(train_Esther_dir)))"
   ]
  },
  {
   "cell_type": "code",
   "execution_count": null,
   "id": "77660e6b-e965-4424-80be-8518f7acb13b",
   "metadata": {},
   "outputs": [],
   "source": []
  }
 ],
 "metadata": {
  "kernelspec": {
   "display_name": "Python 3 (ipykernel)",
   "language": "python",
   "name": "python3"
  },
  "language_info": {
   "codemirror_mode": {
    "name": "ipython",
    "version": 3
   },
   "file_extension": ".py",
   "mimetype": "text/x-python",
   "name": "python",
   "nbconvert_exporter": "python",
   "pygments_lexer": "ipython3",
   "version": "3.10.11"
  }
 },
 "nbformat": 4,
 "nbformat_minor": 5
}
